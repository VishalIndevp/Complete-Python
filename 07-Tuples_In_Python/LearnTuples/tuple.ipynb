{
 "cells": [
  {
   "cell_type": "markdown",
   "id": "c1d57635",
   "metadata": {},
   "source": []
  },
  {
   "cell_type": "markdown",
   "id": "8d40846a",
   "metadata": {},
   "source": []
  },
  {
   "cell_type": "code",
   "execution_count": 1,
   "id": "500420c2",
   "metadata": {},
   "outputs": [
    {
     "name": "stdout",
     "output_type": "stream",
     "text": [
      "()\n",
      "<class 'tuple'>\n"
     ]
    }
   ],
   "source": [
    "empty_tuple=()\n",
    "print(empty_tuple)\n",
    "print(type(empty_tuple))"
   ]
  },
  {
   "cell_type": "code",
   "execution_count": 3,
   "id": "83d4d8bc",
   "metadata": {},
   "outputs": [
    {
     "name": "stdout",
     "output_type": "stream",
     "text": [
      "[]\n",
      "<class 'list'>\n",
      "()\n",
      "<class 'tuple'>\n"
     ]
    }
   ],
   "source": [
    "lst=list()\n",
    "print(lst)\n",
    "print(type(lst))\n",
    "tup=tuple()\n",
    "print(tup)\n",
    "print(type(tup))"
   ]
  },
  {
   "cell_type": "code",
   "execution_count": 13,
   "id": "a8f1cd1f",
   "metadata": {},
   "outputs": [
    {
     "name": "stdout",
     "output_type": "stream",
     "text": [
      "<class 'list'>\n"
     ]
    }
   ],
   "source": [
    "num=([1,2,3,4,5])  #List\n",
    "num\n",
    "print(type(num))"
   ]
  },
  {
   "cell_type": "code",
   "execution_count": 5,
   "id": "b20d4365",
   "metadata": {},
   "outputs": [
    {
     "data": {
      "text/plain": [
       "[1, 2, 2, 3, 4]"
      ]
     },
     "execution_count": 5,
     "metadata": {},
     "output_type": "execute_result"
    }
   ],
   "source": [
    "# List\n",
    "list((1,2,2,3,4))\n"
   ]
  },
  {
   "cell_type": "code",
   "execution_count": 12,
   "id": "cbd2852d",
   "metadata": {},
   "outputs": [
    {
     "data": {
      "text/plain": [
       "(1, 2, 'vishal', 2.1, True)"
      ]
     },
     "execution_count": 12,
     "metadata": {},
     "output_type": "execute_result"
    }
   ],
   "source": [
    "# Mixed tuple\n",
    "mixed_tuple=(1,2,\"vishal\",2.1,True)\n",
    "mixed_tuple"
   ]
  },
  {
   "cell_type": "code",
   "execution_count": 15,
   "id": "5365c6c3",
   "metadata": {},
   "outputs": [],
   "source": [
    "num=(1,2,3,4)"
   ]
  },
  {
   "cell_type": "markdown",
   "id": "e70e1386",
   "metadata": {},
   "source": [
    "## Tuples Operations\n"
   ]
  },
  {
   "cell_type": "code",
   "execution_count": 16,
   "id": "e19e55d4",
   "metadata": {},
   "outputs": [
    {
     "name": "stdout",
     "output_type": "stream",
     "text": [
      "(1, 2, 3, 4, 1, 2, 'vishal', 2.1, True)\n"
     ]
    }
   ],
   "source": [
    "# Tuples Operations\n",
    "concatenation= num +mixed_tuple\n",
    "print(concatenation)"
   ]
  },
  {
   "cell_type": "code",
   "execution_count": 17,
   "id": "468f28d9",
   "metadata": {},
   "outputs": [
    {
     "data": {
      "text/plain": [
       "(1,\n",
       " 2,\n",
       " 'vishal',\n",
       " 2.1,\n",
       " True,\n",
       " 1,\n",
       " 2,\n",
       " 'vishal',\n",
       " 2.1,\n",
       " True,\n",
       " 1,\n",
       " 2,\n",
       " 'vishal',\n",
       " 2.1,\n",
       " True)"
      ]
     },
     "execution_count": 17,
     "metadata": {},
     "output_type": "execute_result"
    }
   ],
   "source": [
    "mixed_tuple*3"
   ]
  },
  {
   "cell_type": "markdown",
   "id": "a2e76f3e",
   "metadata": {},
   "source": [
    "## Imutable Nature of Tuples"
   ]
  },
  {
   "cell_type": "code",
   "execution_count": 19,
   "id": "a2a233f2",
   "metadata": {},
   "outputs": [
    {
     "name": "stdout",
     "output_type": "stream",
     "text": [
      "[1, 2, 3, 4, 5]\n",
      "[1, 'Vishal', 3, 4, 5]\n"
     ]
    }
   ],
   "source": [
    "# Immutable \n",
    "# Tuples are immutables , meaning therir elements cannot be changed once assigned.\n",
    "lst=[1,2,3,4,5]\n",
    "print(lst)\n",
    "\n",
    "lst[1]=\"Vishal\"\n",
    "print(lst)"
   ]
  },
  {
   "cell_type": "code",
   "execution_count": 21,
   "id": "5aa5fd80",
   "metadata": {},
   "outputs": [
    {
     "ename": "TypeError",
     "evalue": "'tuple' object does not support item assignment",
     "output_type": "error",
     "traceback": [
      "\u001b[1;31m---------------------------------------------------------------------------\u001b[0m",
      "\u001b[1;31mTypeError\u001b[0m                                 Traceback (most recent call last)",
      "Cell \u001b[1;32mIn[21], line 1\u001b[0m\n\u001b[1;32m----> 1\u001b[0m num[\u001b[38;5;241m1\u001b[39m]\u001b[38;5;241m=\u001b[39m\u001b[38;5;124m\"\u001b[39m\u001b[38;5;124mvishal\u001b[39m\u001b[38;5;124m\"\u001b[39m\n",
      "\u001b[1;31mTypeError\u001b[0m: 'tuple' object does not support item assignment"
     ]
    }
   ],
   "source": [
    "num[1]=\"vishal\""
   ]
  },
  {
   "cell_type": "markdown",
   "id": "1ee31e49",
   "metadata": {},
   "source": [
    "## Tuples Methods"
   ]
  },
  {
   "cell_type": "code",
   "execution_count": 27,
   "id": "d651ac96",
   "metadata": {},
   "outputs": [
    {
     "name": "stdout",
     "output_type": "stream",
     "text": [
      "1\n",
      "3\n"
     ]
    }
   ],
   "source": [
    "print(num.count(1))\n",
    "print(num.index(4))"
   ]
  },
  {
   "cell_type": "markdown",
   "id": "3e7a6247",
   "metadata": {},
   "source": [
    "## Packing and Unpacking Tuples"
   ]
  },
  {
   "cell_type": "code",
   "execution_count": null,
   "id": "2263aa46",
   "metadata": {},
   "outputs": [
    {
     "name": "stdout",
     "output_type": "stream",
     "text": [
      "(1, 'vishal', 3.5)\n",
      "<class 'tuple'>\n"
     ]
    }
   ],
   "source": [
    "packed_tuple=1,\"vishal\",3.5 # Packing\n",
    "print(packed_tuple)\n",
    "print((type(packed_tuple)))"
   ]
  },
  {
   "cell_type": "code",
   "execution_count": 42,
   "id": "94e6c4af",
   "metadata": {},
   "outputs": [
    {
     "name": "stdout",
     "output_type": "stream",
     "text": [
      "<class 'tuple'>\n"
     ]
    }
   ],
   "source": [
    "p_t=1,2\n",
    "print(type(p_t))"
   ]
  },
  {
   "cell_type": "code",
   "execution_count": 45,
   "id": "c009ab15",
   "metadata": {},
   "outputs": [
    {
     "name": "stdout",
     "output_type": "stream",
     "text": [
      "1\n",
      "vishal\n",
      "3.5\n",
      "<class 'tuple'>\n"
     ]
    },
    {
     "data": {
      "text/plain": [
       "(1, 'vishal', 3.5)"
      ]
     },
     "execution_count": 45,
     "metadata": {},
     "output_type": "execute_result"
    }
   ],
   "source": [
    "# Unpacking Tuple\n",
    "a,b,c=packed_tuple\n",
    "print(a)\n",
    "print(b)\n",
    "print(c)\n",
    "print(type(packed_tuple))\n",
    "packed_tuple\n"
   ]
  },
  {
   "cell_type": "markdown",
   "id": "f8694fdb",
   "metadata": {},
   "source": [
    "## Unpacking with *"
   ]
  },
  {
   "cell_type": "code",
   "execution_count": 51,
   "id": "0341f9e7",
   "metadata": {},
   "outputs": [
    {
     "name": "stdout",
     "output_type": "stream",
     "text": [
      "1\n",
      "[2, 3, 4, 5]\n",
      "6\n"
     ]
    }
   ],
   "source": [
    "number=(1,2,3,4,5,6)\n",
    "first,*middle,last=number\n",
    "print(first)\n",
    "print(middle)\n",
    "print(last)"
   ]
  },
  {
   "cell_type": "markdown",
   "id": "ae39a416",
   "metadata": {},
   "source": [
    "## Nested Tuple"
   ]
  },
  {
   "cell_type": "code",
   "execution_count": 59,
   "id": "1b562ce3",
   "metadata": {},
   "outputs": [
    {
     "data": {
      "text/plain": [
       "[1, 2]"
      ]
     },
     "execution_count": 59,
     "metadata": {},
     "output_type": "execute_result"
    }
   ],
   "source": [
    "#  Nested Tuples\n",
    "# Nested List\n",
    "lst=[[1,2,3],[5,6,7],[8,9.2,\"vishal\"]]\n",
    "lst[1]\n",
    "lst[2]\n",
    "lst[0][0:2]"
   ]
  },
  {
   "cell_type": "code",
   "execution_count": 61,
   "id": "d171a852",
   "metadata": {},
   "outputs": [
    {
     "data": {
      "text/plain": [
       "('vishal', 34.43)"
      ]
     },
     "execution_count": 61,
     "metadata": {},
     "output_type": "execute_result"
    }
   ],
   "source": [
    "# Nested tupple\n",
    "n_t=((1,2,3,4),(655.54,34.3,34),(\"vishal\",34.43))\n",
    "n_t[2]"
   ]
  },
  {
   "cell_type": "code",
   "execution_count": null,
   "id": "a74d4777",
   "metadata": {},
   "outputs": [],
   "source": []
  }
 ],
 "metadata": {
  "kernelspec": {
   "display_name": "base",
   "language": "python",
   "name": "python3"
  },
  "language_info": {
   "codemirror_mode": {
    "name": "ipython",
    "version": 3
   },
   "file_extension": ".py",
   "mimetype": "text/x-python",
   "name": "python",
   "nbconvert_exporter": "python",
   "pygments_lexer": "ipython3",
   "version": "3.12.7"
  }
 },
 "nbformat": 4,
 "nbformat_minor": 5
}
