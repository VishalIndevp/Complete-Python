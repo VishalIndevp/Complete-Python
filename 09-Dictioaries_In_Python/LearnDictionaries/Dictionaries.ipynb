{
 "cells": [
  {
   "cell_type": "markdown",
   "id": "8b503140",
   "metadata": {},
   "source": []
  },
  {
   "cell_type": "markdown",
   "id": "a2274ff9",
   "metadata": {},
   "source": []
  },
  {
   "cell_type": "code",
   "execution_count": 3,
   "id": "41d78da9",
   "metadata": {},
   "outputs": [
    {
     "name": "stdout",
     "output_type": "stream",
     "text": [
      "<class 'dict'>\n",
      "<class 'dict'>\n"
     ]
    }
   ],
   "source": [
    "# Methods to Creating empty list\n",
    "empty_dict={}\n",
    "print(type(empty_dict))\n",
    "empty_dictt=dict()\n",
    "print(type(empty_dictt))"
   ]
  },
  {
   "cell_type": "code",
   "execution_count": 3,
   "id": "159198b2",
   "metadata": {},
   "outputs": [
    {
     "name": "stdout",
     "output_type": "stream",
     "text": [
      "{'Name': 'Vishal', 'Age': '21', 'Grade': '20'}\n"
     ]
    }
   ],
   "source": [
    "student={\"Name\":\"Vishal\",\"Age\":\"21\",\"Grade\":\"20\"}\n",
    "print(student)"
   ]
  },
  {
   "cell_type": "code",
   "execution_count": 4,
   "id": "342a098c",
   "metadata": {},
   "outputs": [
    {
     "name": "stdout",
     "output_type": "stream",
     "text": [
      "20\n",
      "21\n",
      "20\n",
      "None\n",
      "Not Abilable\n"
     ]
    }
   ],
   "source": [
    "## Accecing Dictionary Elements\n",
    "print(student['Grade'])\n",
    "print(student['Age'])\n",
    "\n",
    "# Accecing Dictionary using get.() Method\n",
    "print(student.get('Grade'))\n",
    "print(student.get('subject'))\n",
    "print(student.get('Maths',\"Not Abilable\"))"
   ]
  },
  {
   "cell_type": "code",
   "execution_count": 5,
   "id": "02f95c34",
   "metadata": {},
   "outputs": [
    {
     "name": "stdout",
     "output_type": "stream",
     "text": [
      "{'Name': 'Vishal', 'Age': 22, 'Grade': '20'}\n",
      "{'Name': 'Vishal', 'Age': 22, 'Grade': '20', 'Address': 'India'}\n"
     ]
    }
   ],
   "source": [
    "# Modifiying Dictionary Elements\n",
    "# Dictionary are mutable so u can add, remove or change elements\n",
    "student['Age']=22 # Update new key value\n",
    "print(student)\n",
    "student[\"Address\"]=\"India\"  # Added new key value\n",
    "print(student)"
   ]
  },
  {
   "cell_type": "code",
   "execution_count": 6,
   "id": "bd0c4f31",
   "metadata": {},
   "outputs": [
    {
     "name": "stdout",
     "output_type": "stream",
     "text": [
      "{'Name': 'Vishal', 'Age': 22, 'Address': 'India'}\n"
     ]
    }
   ],
   "source": [
    "# Delete\n",
    "del student['Grade']\n",
    "\n",
    "print(student)"
   ]
  },
  {
   "cell_type": "code",
   "execution_count": 7,
   "id": "675d80d0",
   "metadata": {},
   "outputs": [
    {
     "name": "stdout",
     "output_type": "stream",
     "text": [
      "dict_keys(['Name', 'Age', 'Address'])\n",
      "dict_values(['Vishal', 22, 'India'])\n",
      "dict_items([('Name', 'Vishal'), ('Age', 22), ('Address', 'India')])\n"
     ]
    }
   ],
   "source": [
    "# Dictionary Method\n",
    "\n",
    "keys=student.keys() # To get the key \n",
    "print(keys)\n",
    "\n",
    "values=student.values() # To get the values \n",
    "print(values)\n",
    "\n",
    "items=student.items() # To get the items\n",
    "print(items)"
   ]
  },
  {
   "cell_type": "markdown",
   "id": "74923e9c",
   "metadata": {},
   "source": [
    "## Shallow Copy"
   ]
  },
  {
   "cell_type": "code",
   "execution_count": 8,
   "id": "70fd129e",
   "metadata": {},
   "outputs": [
    {
     "name": "stdout",
     "output_type": "stream",
     "text": [
      "{'Name': 'Vishal', 'Age': 22, 'Address': 'India'}\n",
      "{'Name': 'Vishal', 'Age': 22, 'Address': 'India'}\n"
     ]
    }
   ],
   "source": [
    "shallow_copy=student\n",
    "print(student)\n",
    "print(shallow_copy)"
   ]
  },
  {
   "cell_type": "code",
   "execution_count": 12,
   "id": "c7c6a478",
   "metadata": {},
   "outputs": [
    {
     "name": "stdout",
     "output_type": "stream",
     "text": [
      "{'Name': 'Singh', 'Age': 22, 'Address': 'India'}\n",
      "{'Name': 'Singh', 'Age': 22, 'Address': 'India'}\n"
     ]
    }
   ],
   "source": [
    "# If i change the values of students does it change in shaoow_copy?.\n",
    "student[\"Name\"]='Singh'\n",
    "print(student)\n",
    "print(shallow_copy)"
   ]
  },
  {
   "cell_type": "markdown",
   "id": "6d6fc7a5",
   "metadata": {},
   "source": [
    "### We use copy function to fix this!"
   ]
  },
  {
   "cell_type": "code",
   "execution_count": 13,
   "id": "be2294fe",
   "metadata": {},
   "outputs": [
    {
     "name": "stdout",
     "output_type": "stream",
     "text": [
      "{'Name': 'Singh', 'Age': 22, 'Address': 'India'}\n",
      "{'Name': 'Singh', 'Age': 22, 'Address': 'India'}\n"
     ]
    }
   ],
   "source": [
    "shallow_copy=student.copy()\n",
    "print(shallow_copy)\n",
    "print(student)"
   ]
  },
  {
   "cell_type": "code",
   "execution_count": 14,
   "id": "4778879d",
   "metadata": {},
   "outputs": [],
   "source": [
    "student[\"Name\"]='Vishal'"
   ]
  },
  {
   "cell_type": "code",
   "execution_count": 15,
   "id": "d26227bc",
   "metadata": {},
   "outputs": [
    {
     "name": "stdout",
     "output_type": "stream",
     "text": [
      "{'Name': 'Singh', 'Age': 22, 'Address': 'India'}\n",
      "{'Name': 'Vishal', 'Age': 22, 'Address': 'India'}\n"
     ]
    }
   ],
   "source": [
    "print(shallow_copy)\n",
    "print(student)"
   ]
  },
  {
   "cell_type": "markdown",
   "id": "1dfe9794",
   "metadata": {},
   "source": [
    "## Iterating over Dictionaries"
   ]
  },
  {
   "cell_type": "code",
   "execution_count": null,
   "id": "fb316b5f",
   "metadata": {},
   "outputs": [
    {
     "name": "stdout",
     "output_type": "stream",
     "text": [
      "Name\n",
      "Age\n",
      "Address\n"
     ]
    }
   ],
   "source": [
    "## We can use Loops to iterate over dictionaries, keys , values, or item!\n",
    "# iterate over Keys\n",
    "for keys in student.keys():\n",
    "    print(keys)"
   ]
  },
  {
   "cell_type": "code",
   "execution_count": null,
   "id": "31d5f50c",
   "metadata": {},
   "outputs": [
    {
     "name": "stdout",
     "output_type": "stream",
     "text": [
      "Vishal\n",
      "22\n",
      "India\n"
     ]
    }
   ],
   "source": [
    "# iterate over values\n",
    "for keys in student.values():\n",
    "    print(keys)"
   ]
  },
  {
   "cell_type": "code",
   "execution_count": 21,
   "id": "d6986f19",
   "metadata": {},
   "outputs": [
    {
     "name": "stdout",
     "output_type": "stream",
     "text": [
      "('Name', 'Vishal')\n",
      "('Age', 22)\n",
      "('Address', 'India')\n"
     ]
    }
   ],
   "source": [
    "# iterate over items\n",
    "for keys in student.items():\n",
    "    print(keys)"
   ]
  },
  {
   "cell_type": "markdown",
   "id": "130e5219",
   "metadata": {},
   "source": [
    "## Nested Dictionaries"
   ]
  },
  {
   "cell_type": "code",
   "execution_count": null,
   "id": "4f4b8222",
   "metadata": {},
   "outputs": [],
   "source": []
  }
 ],
 "metadata": {
  "kernelspec": {
   "display_name": "base",
   "language": "python",
   "name": "python3"
  },
  "language_info": {
   "codemirror_mode": {
    "name": "ipython",
    "version": 3
   },
   "file_extension": ".py",
   "mimetype": "text/x-python",
   "name": "python",
   "nbconvert_exporter": "python",
   "pygments_lexer": "ipython3",
   "version": "3.12.7"
  }
 },
 "nbformat": 4,
 "nbformat_minor": 5
}
