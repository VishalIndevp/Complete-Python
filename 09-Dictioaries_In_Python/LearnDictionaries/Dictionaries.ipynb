{
 "cells": [
  {
   "cell_type": "markdown",
   "id": "8b503140",
   "metadata": {},
   "source": []
  },
  {
   "cell_type": "markdown",
   "id": "a2274ff9",
   "metadata": {},
   "source": []
  },
  {
   "cell_type": "code",
   "execution_count": 38,
   "id": "41d78da9",
   "metadata": {},
   "outputs": [
    {
     "name": "stdout",
     "output_type": "stream",
     "text": [
      "<class 'dict'>\n",
      "<class 'dict'>\n"
     ]
    }
   ],
   "source": [
    "# Methods to Creating empty list\n",
    "empty_dict={}\n",
    "print(type(empty_dict))\n",
    "empty_dictt=dict()\n",
    "print(type(empty_dictt))"
   ]
  },
  {
   "cell_type": "code",
   "execution_count": 39,
   "id": "159198b2",
   "metadata": {},
   "outputs": [
    {
     "name": "stdout",
     "output_type": "stream",
     "text": [
      "{'Name': 'Vishal', 'Age': '21', 'Grade': '20'}\n"
     ]
    }
   ],
   "source": [
    "student={\"Name\":\"Vishal\",\"Age\":\"21\",\"Grade\":\"20\"}\n",
    "print(student)"
   ]
  },
  {
   "cell_type": "code",
   "execution_count": 40,
   "id": "342a098c",
   "metadata": {},
   "outputs": [
    {
     "name": "stdout",
     "output_type": "stream",
     "text": [
      "20\n",
      "21\n",
      "20\n",
      "None\n",
      "Not Abilable\n"
     ]
    }
   ],
   "source": [
    "## Accecing Dictionary Elements\n",
    "print(student['Grade'])\n",
    "print(student['Age'])\n",
    "\n",
    "# Accecing Dictionary using get.() Method\n",
    "print(student.get('Grade'))\n",
    "print(student.get('subject'))\n",
    "print(student.get('Maths',\"Not Abilable\"))"
   ]
  },
  {
   "cell_type": "code",
   "execution_count": 41,
   "id": "02f95c34",
   "metadata": {},
   "outputs": [
    {
     "name": "stdout",
     "output_type": "stream",
     "text": [
      "{'Name': 'Vishal', 'Age': 22, 'Grade': '20'}\n",
      "{'Name': 'Vishal', 'Age': 22, 'Grade': '20', 'Address': 'India'}\n"
     ]
    }
   ],
   "source": [
    "# Modifiying Dictionary Elements\n",
    "# Dictionary are mutable so u can add, remove or change elements\n",
    "student['Age']=22 # Update new key value\n",
    "print(student)\n",
    "student[\"Address\"]=\"India\"  # Added new key value\n",
    "print(student)"
   ]
  },
  {
   "cell_type": "code",
   "execution_count": 42,
   "id": "bd0c4f31",
   "metadata": {},
   "outputs": [
    {
     "name": "stdout",
     "output_type": "stream",
     "text": [
      "{'Name': 'Vishal', 'Age': 22, 'Address': 'India'}\n"
     ]
    }
   ],
   "source": [
    "# Delete\n",
    "del student['Grade']\n",
    "\n",
    "print(student)"
   ]
  },
  {
   "cell_type": "code",
   "execution_count": 43,
   "id": "675d80d0",
   "metadata": {},
   "outputs": [
    {
     "name": "stdout",
     "output_type": "stream",
     "text": [
      "dict_keys(['Name', 'Age', 'Address'])\n",
      "dict_values(['Vishal', 22, 'India'])\n",
      "dict_items([('Name', 'Vishal'), ('Age', 22), ('Address', 'India')])\n"
     ]
    }
   ],
   "source": [
    "# Dictionary Method\n",
    "\n",
    "keys=student.keys() # To get the key \n",
    "print(keys)\n",
    "\n",
    "values=student.values() # To get the values \n",
    "print(values)\n",
    "\n",
    "items=student.items() # To get the items\n",
    "print(items)"
   ]
  },
  {
   "cell_type": "markdown",
   "id": "74923e9c",
   "metadata": {},
   "source": [
    "## Shallow Copy"
   ]
  },
  {
   "cell_type": "code",
   "execution_count": 44,
   "id": "70fd129e",
   "metadata": {},
   "outputs": [
    {
     "name": "stdout",
     "output_type": "stream",
     "text": [
      "{'Name': 'Vishal', 'Age': 22, 'Address': 'India'}\n",
      "{'Name': 'Vishal', 'Age': 22, 'Address': 'India'}\n"
     ]
    }
   ],
   "source": [
    "shallow_copy=student\n",
    "print(student)\n",
    "print(shallow_copy)"
   ]
  },
  {
   "cell_type": "code",
   "execution_count": 45,
   "id": "c7c6a478",
   "metadata": {},
   "outputs": [
    {
     "name": "stdout",
     "output_type": "stream",
     "text": [
      "{'Name': 'Singh', 'Age': 22, 'Address': 'India'}\n",
      "{'Name': 'Singh', 'Age': 22, 'Address': 'India'}\n"
     ]
    }
   ],
   "source": [
    "# If i change the values of students does it change in shaoow_copy?.\n",
    "student[\"Name\"]='Singh'\n",
    "print(student)\n",
    "print(shallow_copy)"
   ]
  },
  {
   "cell_type": "markdown",
   "id": "6d6fc7a5",
   "metadata": {},
   "source": [
    "### We use copy function to fix this!"
   ]
  },
  {
   "cell_type": "code",
   "execution_count": 46,
   "id": "be2294fe",
   "metadata": {},
   "outputs": [
    {
     "name": "stdout",
     "output_type": "stream",
     "text": [
      "{'Name': 'Singh', 'Age': 22, 'Address': 'India'}\n",
      "{'Name': 'Singh', 'Age': 22, 'Address': 'India'}\n"
     ]
    }
   ],
   "source": [
    "shallow_copy=student.copy()\n",
    "print(shallow_copy)\n",
    "print(student)"
   ]
  },
  {
   "cell_type": "code",
   "execution_count": 47,
   "id": "4778879d",
   "metadata": {},
   "outputs": [],
   "source": [
    "student[\"Name\"]='Vishal'"
   ]
  },
  {
   "cell_type": "code",
   "execution_count": 48,
   "id": "d26227bc",
   "metadata": {},
   "outputs": [
    {
     "name": "stdout",
     "output_type": "stream",
     "text": [
      "{'Name': 'Singh', 'Age': 22, 'Address': 'India'}\n",
      "{'Name': 'Vishal', 'Age': 22, 'Address': 'India'}\n"
     ]
    }
   ],
   "source": [
    "print(shallow_copy)\n",
    "print(student)"
   ]
  },
  {
   "cell_type": "markdown",
   "id": "1dfe9794",
   "metadata": {},
   "source": [
    "## Iterating over Dictionaries"
   ]
  },
  {
   "cell_type": "code",
   "execution_count": 49,
   "id": "fb316b5f",
   "metadata": {},
   "outputs": [
    {
     "name": "stdout",
     "output_type": "stream",
     "text": [
      "Name\n",
      "Age\n",
      "Address\n"
     ]
    }
   ],
   "source": [
    "## We can use Loops to iterate over dictionaries, keys , values, or item!\n",
    "# iterate over Keys\n",
    "for keys in student.keys():\n",
    "    print(keys)"
   ]
  },
  {
   "cell_type": "code",
   "execution_count": 50,
   "id": "31d5f50c",
   "metadata": {},
   "outputs": [
    {
     "name": "stdout",
     "output_type": "stream",
     "text": [
      "Vishal\n",
      "22\n",
      "India\n"
     ]
    }
   ],
   "source": [
    "# iterate over values\n",
    "for keys in student.values():\n",
    "    print(keys)"
   ]
  },
  {
   "cell_type": "code",
   "execution_count": 51,
   "id": "d6986f19",
   "metadata": {},
   "outputs": [
    {
     "name": "stdout",
     "output_type": "stream",
     "text": [
      "('Name', 'Vishal')\n",
      "('Age', 22)\n",
      "('Address', 'India')\n"
     ]
    }
   ],
   "source": [
    "# iterate over items\n",
    "for keys in student.items():\n",
    "    print(keys)"
   ]
  },
  {
   "cell_type": "markdown",
   "id": "130e5219",
   "metadata": {},
   "source": [
    "## Nested Dictionaries"
   ]
  },
  {
   "cell_type": "code",
   "execution_count": 52,
   "id": "4f4b8222",
   "metadata": {},
   "outputs": [
    {
     "name": "stdout",
     "output_type": "stream",
     "text": [
      "{'student1': {'Name': 'Vishal', 'Age': 21}, 'student2': {'Name': 'Singh', 'Age': 22}}\n"
     ]
    }
   ],
   "source": [
    "students={\n",
    "    \"student1\":{\"Name\":\"Vishal\",\"Age\":21},\n",
    "    \"student2\":{\"Name\":\"Singh\",\"Age\":22}\n",
    "}\n",
    "print(students)"
   ]
  },
  {
   "cell_type": "code",
   "execution_count": 53,
   "id": "ede13291",
   "metadata": {},
   "outputs": [
    {
     "name": "stdout",
     "output_type": "stream",
     "text": [
      "{'Name': 'Vishal', 'Age': 21}\n",
      "Singh\n"
     ]
    }
   ],
   "source": [
    "# Accessing Nested Dictionaries\n",
    "print(students[\"student1\"])\n",
    "print(students[\"student2\"][\"Name\"])"
   ]
  },
  {
   "cell_type": "code",
   "execution_count": 58,
   "id": "9dab3c6e",
   "metadata": {},
   "outputs": [
    {
     "name": "stdout",
     "output_type": "stream",
     "text": [
      "student1: {'Name': 'Vishal', 'Age': 21}\n",
      "  Name: Vishal\n",
      "  Age: 21\n",
      "student2: {'Name': 'Singh', 'Age': 22}\n",
      "  Name: Singh\n",
      "  Age: 22\n"
     ]
    }
   ],
   "source": [
    "## Iterating over Nested Dictionaries\n",
    "for student_id, student_info in students.items():\n",
    "    print(f\"{student_id}: {student_info}\")\n",
    "    for key, value in student_info.items():\n",
    "        print(f\"  {key}: {value}\")\n"
   ]
  },
  {
   "cell_type": "code",
   "execution_count": null,
   "id": "e595a8af",
   "metadata": {},
   "outputs": [
    {
     "data": {
      "text/plain": [
       "dict_items([('student1', {'Name': 'Vishal', 'Age': 21}), ('student2', {'Name': 'Singh', 'Age': 22})])"
      ]
     },
     "execution_count": 28,
     "metadata": {},
     "output_type": "execute_result"
    }
   ],
   "source": [
    "students.items()"
   ]
  },
  {
   "cell_type": "code",
   "execution_count": 61,
   "id": "3e0d1f2e",
   "metadata": {},
   "outputs": [
    {
     "name": "stdout",
     "output_type": "stream",
     "text": [
      "{0: 0, 1: 1, 2: 4, 3: 9, 4: 16}\n"
     ]
    }
   ],
   "source": [
    "# Dictonaries Comprehension\n",
    "square={x:x**2 for x in range(5)}\n",
    "print(square)"
   ]
  },
  {
   "cell_type": "code",
   "execution_count": 1,
   "id": "82aeaad1",
   "metadata": {},
   "outputs": [
    {
     "name": "stdout",
     "output_type": "stream",
     "text": [
      "{0: 0, 2: 4, 4: 16, 6: 36, 8: 64}\n"
     ]
    }
   ],
   "source": [
    "# Conditional  Dictonaries Comprehension\n",
    "evens= {X:X**2 for X in range(10) if X%2==0}\n",
    "print(evens)"
   ]
  },
  {
   "cell_type": "code",
   "execution_count": null,
   "id": "51bdfee2",
   "metadata": {},
   "outputs": [],
   "source": []
  }
 ],
 "metadata": {
  "kernelspec": {
   "display_name": "base",
   "language": "python",
   "name": "python3"
  },
  "language_info": {
   "codemirror_mode": {
    "name": "ipython",
    "version": 3
   },
   "file_extension": ".py",
   "mimetype": "text/x-python",
   "name": "python",
   "nbconvert_exporter": "python",
   "pygments_lexer": "ipython3",
   "version": "3.12.7"
  }
 },
 "nbformat": 4,
 "nbformat_minor": 5
}
