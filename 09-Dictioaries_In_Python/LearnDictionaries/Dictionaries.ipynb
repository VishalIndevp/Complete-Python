{
 "cells": [
  {
   "cell_type": "markdown",
   "id": "8b503140",
   "metadata": {},
   "source": []
  },
  {
   "cell_type": "markdown",
   "id": "a2274ff9",
   "metadata": {},
   "source": []
  },
  {
   "cell_type": "code",
   "execution_count": 3,
   "id": "41d78da9",
   "metadata": {},
   "outputs": [
    {
     "name": "stdout",
     "output_type": "stream",
     "text": [
      "<class 'dict'>\n",
      "<class 'dict'>\n"
     ]
    }
   ],
   "source": [
    "# Methods to Creating empty list\n",
    "empty_dict={}\n",
    "print(type(empty_dict))\n",
    "empty_dictt=dict()\n",
    "print(type(empty_dictt))"
   ]
  },
  {
   "cell_type": "code",
   "execution_count": 4,
   "id": "159198b2",
   "metadata": {},
   "outputs": [
    {
     "name": "stdout",
     "output_type": "stream",
     "text": [
      "{'Name': 'Vishal', 'Age': '21', 'Grade': '20'}\n"
     ]
    }
   ],
   "source": [
    "student={\"Name\":\"Vishal\",\"Age\":\"21\",\"Grade\":\"20\"}\n",
    "print(student)"
   ]
  },
  {
   "cell_type": "code",
   "execution_count": 5,
   "id": "342a098c",
   "metadata": {},
   "outputs": [
    {
     "name": "stdout",
     "output_type": "stream",
     "text": [
      "20\n",
      "21\n",
      "20\n",
      "None\n",
      "Not Abilable\n"
     ]
    }
   ],
   "source": [
    "## Accecing Dictionary Elements\n",
    "print(student['Grade'])\n",
    "print(student['Age'])\n",
    "\n",
    "# Accecing Dictionary using get.() Method\n",
    "print(student.get('Grade'))\n",
    "print(student.get('subject'))\n",
    "print(student.get('Maths',\"Not Abilable\"))"
   ]
  },
  {
   "cell_type": "code",
   "execution_count": 9,
   "id": "02f95c34",
   "metadata": {},
   "outputs": [
    {
     "name": "stdout",
     "output_type": "stream",
     "text": [
      "{'Name': 'Vishal', 'Age': 22, 'Grade': '20', 'Address': 'India'}\n",
      "{'Name': 'Vishal', 'Age': 22, 'Grade': '20', 'Address': 'India'}\n"
     ]
    }
   ],
   "source": [
    "# Modifiying Dictionary Elements\n",
    "# Dictionary are mutable so u can add, remove or change elements\n",
    "student['Age']=22 # Update new key value\n",
    "print(student)\n",
    "student[\"Address\"]=\"India\"  # Added new key value\n",
    "print(student)"
   ]
  },
  {
   "cell_type": "code",
   "execution_count": 13,
   "id": "bd0c4f31",
   "metadata": {},
   "outputs": [
    {
     "name": "stdout",
     "output_type": "stream",
     "text": [
      "{'Name': 'Vishal', 'Age': 22, 'Address': 'India'}\n"
     ]
    }
   ],
   "source": [
    "# Delete\n",
    "del student['Grade']\n",
    "\n",
    "print(student)"
   ]
  },
  {
   "cell_type": "code",
   "execution_count": null,
   "id": "675d80d0",
   "metadata": {},
   "outputs": [],
   "source": []
  }
 ],
 "metadata": {
  "kernelspec": {
   "display_name": "base",
   "language": "python",
   "name": "python3"
  },
  "language_info": {
   "codemirror_mode": {
    "name": "ipython",
    "version": 3
   },
   "file_extension": ".py",
   "mimetype": "text/x-python",
   "name": "python",
   "nbconvert_exporter": "python",
   "pygments_lexer": "ipython3",
   "version": "3.12.7"
  }
 },
 "nbformat": 4,
 "nbformat_minor": 5
}
