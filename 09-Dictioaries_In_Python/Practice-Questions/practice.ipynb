{
 "cells": [
  {
   "cell_type": "code",
   "execution_count": null,
   "id": "31e71920",
   "metadata": {},
   "outputs": [],
   "source": [
    "# Use a  Dictonaries to count the frequency of elements in list\n",
    "numbers=[1,2,3,3,3,4,4,4,4]"
   ]
  }
 ],
 "metadata": {
  "language_info": {
   "name": "python"
  }
 },
 "nbformat": 4,
 "nbformat_minor": 5
}
