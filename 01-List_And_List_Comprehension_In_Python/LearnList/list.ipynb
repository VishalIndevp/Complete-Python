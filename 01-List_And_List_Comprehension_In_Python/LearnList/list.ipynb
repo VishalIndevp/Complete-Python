{
 "cells": [
  {
   "cell_type": "code",
   "execution_count": null,
   "id": "56daac4c",
   "metadata": {},
   "outputs": [],
   "source": []
  },
  {
   "cell_type": "code",
   "execution_count": null,
   "id": "27bb2b70",
   "metadata": {},
   "outputs": [],
   "source": []
  },
  {
   "cell_type": "code",
   "execution_count": 1,
   "id": "e25a9831",
   "metadata": {},
   "outputs": [
    {
     "name": "stdout",
     "output_type": "stream",
     "text": [
      "<class 'list'>\n"
     ]
    }
   ],
   "source": [
    "lst=[]\n",
    "print(type(lst))"
   ]
  },
  {
   "cell_type": "code",
   "execution_count": 2,
   "id": "49dffeaf",
   "metadata": {},
   "outputs": [
    {
     "name": "stdout",
     "output_type": "stream",
     "text": [
      "['vishal', 'Singh', 'Sourav', 'Gaurav']\n"
     ]
    }
   ],
   "source": [
    "# Creating List\n",
    "lst=[\"vishal\",\"Singh\",\"Sourav\",\"Gaurav\"]\n",
    "print(lst)"
   ]
  },
  {
   "cell_type": "code",
   "execution_count": 4,
   "id": "170b06dd",
   "metadata": {},
   "outputs": [
    {
     "name": "stdout",
     "output_type": "stream",
     "text": [
      "['vishal', 1, 2, 3]\n"
     ]
    }
   ],
   "source": [
    "# mixed List\n",
    "mixed_list=[\"vishal\",1,2,3]\n",
    "print(mixed_list)"
   ]
  },
  {
   "cell_type": "code",
   "execution_count": 41,
   "id": "9054561f",
   "metadata": {},
   "outputs": [
    {
     "name": "stdout",
     "output_type": "stream",
     "text": [
      "apple\n"
     ]
    }
   ],
   "source": [
    "# Assessing List Elements\n",
    "fruits=[\"apple\",\"orrange\",\"Mango\",\"kiwi\",\"banana\",\"cherry\"]\n",
    "print(fruits[0])"
   ]
  },
  {
   "cell_type": "code",
   "execution_count": 14,
   "id": "97247649",
   "metadata": {},
   "outputs": [
    {
     "name": "stdout",
     "output_type": "stream",
     "text": [
      "['cherry', 'kiwi', 'orrange']\n"
     ]
    }
   ],
   "source": [
    "print(fruits[-1::-2])"
   ]
  },
  {
   "cell_type": "code",
   "execution_count": 18,
   "id": "c3eb4167",
   "metadata": {},
   "outputs": [
    {
     "name": "stdout",
     "output_type": "stream",
     "text": [
      "Watermallon\n",
      "['apple', 'Watermallon', 'Mango', 'kiwi', 'banana', 'cherry']\n"
     ]
    }
   ],
   "source": [
    "# Changing the List Elements\n",
    "fruits[1]=\"Watermallon\"\n",
    "print(fruits[1])\n",
    "print(fruits)"
   ]
  },
  {
   "cell_type": "code",
   "execution_count": 19,
   "id": "5e5bb1e2",
   "metadata": {},
   "outputs": [],
   "source": [
    "fruits[1:]=\"Watermallon\""
   ]
  },
  {
   "cell_type": "code",
   "execution_count": 20,
   "id": "5cc31865",
   "metadata": {},
   "outputs": [
    {
     "data": {
      "text/plain": [
       "['apple', 'W', 'a', 't', 'e', 'r', 'm', 'a', 'l', 'l', 'o', 'n']"
      ]
     },
     "execution_count": 20,
     "metadata": {},
     "output_type": "execute_result"
    }
   ],
   "source": [
    "fruits"
   ]
  },
  {
   "cell_type": "code",
   "execution_count": null,
   "id": "e625e735",
   "metadata": {},
   "outputs": [],
   "source": []
  },
  {
   "cell_type": "markdown",
   "id": "db2414dd",
   "metadata": {},
   "source": [
    "### List Methods"
   ]
  },
  {
   "cell_type": "code",
   "execution_count": null,
   "id": "fc90ee73",
   "metadata": {},
   "outputs": [
    {
     "name": "stdout",
     "output_type": "stream",
     "text": [
      "['apple', 'W', 'a', 't', 'e', 'r', 'm', 'a', 'l', 'l', 'o', 'n', 'watermaloon']\n"
     ]
    }
   ],
   "source": [
    "fruits.append(\"watermaloon\") ## Add an item to the end\n",
    "print(fruits)"
   ]
  },
  {
   "cell_type": "code",
   "execution_count": null,
   "id": "a11b5b6a",
   "metadata": {},
   "outputs": [
    {
     "name": "stdout",
     "output_type": "stream",
     "text": [
      "['apple', 'Orrange', 'W', 'a', 't', 'e', 'r', 'm', 'a', 'l', 'l', 'o', 'n', 'watermaloon']\n"
     ]
    }
   ],
   "source": [
    "fruits.insert(1,\"Orrange\") ## Add in specific index\n",
    "print(fruits)"
   ]
  },
  {
   "cell_type": "code",
   "execution_count": 36,
   "id": "a9ecda29",
   "metadata": {},
   "outputs": [
    {
     "ename": "ValueError",
     "evalue": "list.remove(x): x not in list",
     "output_type": "error",
     "traceback": [
      "\u001b[1;31m---------------------------------------------------------------------------\u001b[0m",
      "\u001b[1;31mValueError\u001b[0m                                Traceback (most recent call last)",
      "Cell \u001b[1;32mIn[36], line 1\u001b[0m\n\u001b[1;32m----> 1\u001b[0m fruits\u001b[38;5;241m.\u001b[39mremove(\u001b[38;5;124m\"\u001b[39m\u001b[38;5;124mW\u001b[39m\u001b[38;5;124m\"\u001b[39m)\n\u001b[0;32m      2\u001b[0m \u001b[38;5;28mprint\u001b[39m(fruits)\n",
      "\u001b[1;31mValueError\u001b[0m: list.remove(x): x not in list"
     ]
    }
   ],
   "source": [
    "fruits.remove(\"W\")\n",
    "print(fruits)"
   ]
  },
  {
   "cell_type": "code",
   "execution_count": 39,
   "id": "82717fa0",
   "metadata": {},
   "outputs": [
    {
     "name": "stdout",
     "output_type": "stream",
     "text": [
      "apple\n"
     ]
    }
   ],
   "source": [
    "# Remove and Return the Last Index\n",
    "popped_fruits=fruits.pop()\n",
    "print(popped_fruits)\n"
   ]
  },
  {
   "cell_type": "code",
   "execution_count": 42,
   "id": "22ffd3b3",
   "metadata": {},
   "outputs": [
    {
     "data": {
      "text/plain": [
       "['apple', 'orrange', 'Mango', 'kiwi', 'banana', 'cherry']"
      ]
     },
     "execution_count": 42,
     "metadata": {},
     "output_type": "execute_result"
    }
   ],
   "source": [
    "fruits"
   ]
  },
  {
   "cell_type": "code",
   "execution_count": 46,
   "id": "41a093af",
   "metadata": {},
   "outputs": [
    {
     "name": "stdout",
     "output_type": "stream",
     "text": [
      "3\n",
      "1\n"
     ]
    }
   ],
   "source": [
    "# Check the Index \n",
    "index=fruits.index(\"kiwi\")\n",
    "print(index)\n",
    "# counting\n",
    "print(fruits.count(\"orrange\"))"
   ]
  },
  {
   "cell_type": "code",
   "execution_count": 48,
   "id": "4781d747",
   "metadata": {},
   "outputs": [
    {
     "data": {
      "text/plain": [
       "[]"
      ]
     },
     "execution_count": 48,
     "metadata": {},
     "output_type": "execute_result"
    }
   ],
   "source": [
    "fruits.clear() # This will remove all the items\n",
    "fruits"
   ]
  },
  {
   "cell_type": "markdown",
   "id": "1e5151d4",
   "metadata": {},
   "source": [
    "## Slicing List"
   ]
  },
  {
   "cell_type": "code",
   "execution_count": 55,
   "id": "055c6c49",
   "metadata": {},
   "outputs": [
    {
     "name": "stdout",
     "output_type": "stream",
     "text": [
      "[3, 4, 5]\n",
      "[1, 2, 3, 4, 5]\n",
      "[6, 7, 8, 9, 10]\n",
      "[1, 3, 5, 7, 9]\n",
      "[10, 9, 8, 7, 6, 5, 4, 3, 2, 1]\n"
     ]
    }
   ],
   "source": [
    "num=[1,2,3,4,5,6,7,8,9,10]\n",
    "print(num[2:5])\n",
    "print(num[:5])\n",
    "print(num[5:])\n",
    "print(num[::2]) # :: means all and giving as value 2 it will jup 2 values\n",
    "print(num[::-1])"
   ]
  },
  {
   "cell_type": "markdown",
   "id": "1031db42",
   "metadata": {},
   "source": [
    "## Itrating over List"
   ]
  },
  {
   "cell_type": "code",
   "execution_count": 50,
   "id": "82b7e2bd",
   "metadata": {},
   "outputs": [
    {
     "name": "stdout",
     "output_type": "stream",
     "text": [
      "1\n",
      "2\n",
      "3\n",
      "4\n",
      "5\n",
      "6\n",
      "7\n",
      "8\n",
      "9\n",
      "10\n"
     ]
    }
   ],
   "source": [
    "for num in num:\n",
    "    print(num)"
   ]
  },
  {
   "cell_type": "code",
   "execution_count": 56,
   "id": "81cf85fb",
   "metadata": {},
   "outputs": [
    {
     "name": "stdout",
     "output_type": "stream",
     "text": [
      "0 1\n",
      "1 2\n",
      "2 3\n",
      "3 4\n",
      "4 5\n",
      "5 6\n",
      "6 7\n",
      "7 8\n",
      "8 9\n",
      "9 10\n"
     ]
    }
   ],
   "source": [
    "# Seeing indexing as well\n",
    "\n",
    "for index, num in enumerate(num):\n",
    "    print(index, num)\n"
   ]
  },
  {
   "cell_type": "code",
   "execution_count": 66,
   "id": "bd24d60b",
   "metadata": {},
   "outputs": [
    {
     "name": "stdout",
     "output_type": "stream",
     "text": [
      "[0, 1, 4, 9, 16, 25, 36, 49, 64, 81]\n"
     ]
    }
   ],
   "source": [
    "# List comprehension\n",
    "lst=[]\n",
    "for x in range(10):\n",
    "    lst.append(x**2)\n",
    "\n",
    "print(lst)"
   ]
  },
  {
   "cell_type": "code",
   "execution_count": 65,
   "id": "f259d400",
   "metadata": {},
   "outputs": [
    {
     "data": {
      "text/plain": [
       "[0, 1, 4, 9, 16, 25, 36, 49, 64, 81]"
      ]
     },
     "execution_count": 65,
     "metadata": {},
     "output_type": "execute_result"
    }
   ],
   "source": [
    "[x**2 for x in range(10)]"
   ]
  },
  {
   "cell_type": "markdown",
   "id": "022d13c8",
   "metadata": {},
   "source": [
    "### list comprehension syntax\n",
    "Basic Syntax [expression for item in iterable]\n",
    "with conditional logic [experession for item in iterable for condition]"
   ]
  },
  {
   "cell_type": "code",
   "execution_count": 67,
   "id": "1bcacf76",
   "metadata": {},
   "outputs": [
    {
     "name": "stdout",
     "output_type": "stream",
     "text": [
      "[0, 1, 4, 9, 16, 25, 36, 49, 64, 81]\n"
     ]
    }
   ],
   "source": [
    "# Basic list comprehension syntax\n",
    "square=[num**2 for num in range(10)]\n",
    "print(square)"
   ]
  },
  {
   "cell_type": "code",
   "execution_count": 76,
   "id": "9b96bdf5",
   "metadata": {},
   "outputs": [
    {
     "name": "stdout",
     "output_type": "stream",
     "text": [
      "[0, 2, 4, 6, 8, 10]\n"
     ]
    }
   ],
   "source": [
    "# list comprehension syntax with conditional logic\n",
    "lst=[]\n",
    "for i in range(11):\n",
    "    if i%2==0:\n",
    "        lst.append(i)\n",
    "       \n",
    "print(lst)\n"
   ]
  },
  {
   "cell_type": "code",
   "execution_count": 78,
   "id": "7f44bba3",
   "metadata": {},
   "outputs": [
    {
     "name": "stdout",
     "output_type": "stream",
     "text": [
      "[0, 2, 4, 6, 8]\n"
     ]
    }
   ],
   "source": [
    "# Another Method\n",
    "even_method=[num for num in range(10) if num%2==0]\n",
    "print(even_method)"
   ]
  },
  {
   "cell_type": "code",
   "execution_count": 79,
   "id": "a6c757d9",
   "metadata": {},
   "outputs": [
    {
     "name": "stdout",
     "output_type": "stream",
     "text": [
      "[[1, 'a'], [1, 'b'], [2, 'a'], [2, 'b']]\n"
     ]
    }
   ],
   "source": [
    "# Nested list comprehension\n",
    "lst1=[1,2]\n",
    "lst2=['a','b']\n",
    "pair=[[i,j]for i in lst1 for j in lst2]\n",
    "print(pair)"
   ]
  },
  {
   "cell_type": "code",
   "execution_count": 80,
   "id": "09e8dbc6",
   "metadata": {},
   "outputs": [
    {
     "name": "stdout",
     "output_type": "stream",
     "text": [
      "[5, 8, 3, 3, 4, 3]\n"
     ]
    }
   ],
   "source": [
    "# list comprehension with function call\n",
    "word=[\"Hello\",\"everyone\",\"how\",\"was\",\"your\",\"day\"]\n",
    "lengths=[len(word)for word in word]\n",
    "print(lengths)"
   ]
  },
  {
   "cell_type": "code",
   "execution_count": null,
   "id": "b7c3f77e",
   "metadata": {},
   "outputs": [],
   "source": []
  }
 ],
 "metadata": {
  "kernelspec": {
   "display_name": "base",
   "language": "python",
   "name": "python3"
  },
  "language_info": {
   "codemirror_mode": {
    "name": "ipython",
    "version": 3
   },
   "file_extension": ".py",
   "mimetype": "text/x-python",
   "name": "python",
   "nbconvert_exporter": "python",
   "pygments_lexer": "ipython3",
   "version": "3.12.7"
  }
 },
 "nbformat": 4,
 "nbformat_minor": 5
}
